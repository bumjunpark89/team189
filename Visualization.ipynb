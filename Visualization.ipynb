{
 "cells": [
  {
   "cell_type": "code",
   "execution_count": null,
   "id": "2c0532f0",
   "metadata": {},
   "outputs": [],
   "source": [
    "import pandas as pd\n",
    "import folium"
   ]
  },
  {
   "cell_type": "code",
   "execution_count": null,
   "id": "c90b330e",
   "metadata": {},
   "outputs": [],
   "source": [
    "df.shape"
   ]
  },
  {
   "cell_type": "code",
   "execution_count": null,
   "id": "f141b298",
   "metadata": {},
   "outputs": [],
   "source": [
    "# Load the cleaned data\n",
    "df = pd.read_csv('alt_fuel_stations_ev_charging_units_cleaned.csv')\n",
    "df['ZIP'] = pd.to_numeric(df['ZIP'], errors='coerce').astype('Int64')\n",
    "df['EV J1772 Power Output (kW)'] = df['EV J1772 Power Output (kW)'].fillna('Not available')\n",
    "df['EV CCS Power Output (kW)'] = df['EV CCS Power Output (kW)'].fillna('Not available')\n",
    "df['EV CHAdeMO Power Output (kW)'] = df['EV CHAdeMO Power Output (kW)'].fillna('Not available')\n",
    "df['EV J3400 Power Output (kW)'] = df['EV J3400 Power Output (kW)'].fillna('Not available')\n",
    "df['Open Date'] = df['Open Date'].fillna('Not available')\n",
    "df['EV Pricing'] = df['EV Pricing'].fillna('Not available')\n",
    "\n",
    "\n",
    "\n",
    "# Compute the center of the map (using the mean latitude and longitude)\n",
    "center_lat = df['Latitude'].mean()\n",
    "center_lon = df['Longitude'].mean()"
   ]
  },
  {
   "cell_type": "code",
   "execution_count": null,
   "id": "6d732dd2",
   "metadata": {},
   "outputs": [],
   "source": [
    "# Create a folium map centered at the computed center\n",
    "m = folium.Map(location=[center_lat, center_lon], zoom_start=5)"
   ]
  },
  {
   "cell_type": "code",
   "execution_count": null,
   "id": "76108478",
   "metadata": {},
   "outputs": [],
   "source": [
    "# Function to create the HTML popup content\n",
    "# def create_popup(row):\n",
    "#     return f\"\"\"\n",
    "#     <b>{row['Station Name']}</b><br>\n",
    "#     {row['Street Address']}<br>\n",
    "#     {row['City']}, {row['State']} {row['ZIP']}<br><br>\n",
    "#     <b>Connector Details:</b><br>\n",
    "#     EV J1772 Connector Count: {row['EV J1772 Connector Count']}<br>\n",
    "#     EV J1772 Power Output (kW): {row['EV J1772 Power Output (kW)']}<br>\n",
    "#     EV CCS Connector Count: {row['EV CCS Connector Count']}<br>\n",
    "#     EV CCS Power Output (kW): {row['EV CCS Power Output (kW)']}<br>\n",
    "#     EV CHAdeMO Connector Count: {row['EV CHAdeMO Connector Count']}<br>\n",
    "#     EV CHAdeMO Power Output (kW): {row['EV CHAdeMO Power Output (kW)']}<br>\n",
    "#     EV J3400 Connector Count: {row['EV J3400 Connector Count']}<br>\n",
    "#     EV J3400 Power Output (kW): {row['EV J3400 Power Output (kW)']}\n",
    "#     \"\"\"\n",
    "\n",
    "def create_popup(row):\n",
    "    details = []\n",
    "    # Check EV J1772 details\n",
    "    if row['EV J1772 Connector Count'] != 0:\n",
    "        details.append(\n",
    "            f\"Charger Type: Level 2<br>\"\n",
    "            f\"EV J1772 Connector Count: {row['EV J1772 Connector Count']}<br>\"\n",
    "            f\"EV J1772 Power Output (kW): {row['EV J1772 Power Output (kW)']}<br>\"\n",
    "        )\n",
    "    # Check EV CCS details\n",
    "    if row['EV CCS Connector Count'] != 0:\n",
    "        details.append(\n",
    "            f\"Charger Type: Level 3<br>\"\n",
    "            f\"EV CCS Connector Count: {row['EV CCS Connector Count']}<br>\"\n",
    "            f\"EV CCS Power Output (kW): {row['EV CCS Power Output (kW)']}<br>\"\n",
    "        )\n",
    "    # Check EV CHAdeMO details\n",
    "    if row['EV CHAdeMO Connector Count'] != 0:\n",
    "        details.append(\n",
    "            f\"Charger Type: Level 3<br>\"\n",
    "            f\"EV CHAdeMO Connector Count: {row['EV CHAdeMO Connector Count']}<br>\"\n",
    "            f\"EV CHAdeMO Power Output (kW): {row['EV CHAdeMO Power Output (kW)']}<br>\"\n",
    "        )\n",
    "    # Check EV J3400 details\n",
    "    if row['EV J3400 Connector Count'] != 0:\n",
    "        details.append(\n",
    "            f\"Charger Type: Level 3<br>\"\n",
    "            f\"EV J3400 Connector Count: {row['EV J3400 Connector Count']}<br>\"\n",
    "            f\"EV J3400 Power Output (kW): {row['EV J3400 Power Output (kW)']}<br>\"\n",
    "        )\n",
    "    \n",
    "    details.append(\n",
    "        f\"Open Date: {row['Open Date']}<br>\"\n",
    "        f\"Pricing: {row['EV Pricing']}<br>\"\n",
    "        )\n",
    "\n",
    "    connector_details = \"\".join(details) if details else \"No connector details available.\"\n",
    "\n",
    "    return f\"\"\"\n",
    "    <b>{row['Station Name']}</b><br>\n",
    "    {row['Street Address']}<br>\n",
    "    {row['City']}, {row['State']} {row['ZIP']}<br><br>\n",
    "    <b>Connector Details:</b><br>\n",
    "    {connector_details}\n",
    "    \n",
    "    \n",
    "    \"\"\"\n",
    "\n",
    "# Add a circle marker for each station in the dataset\n",
    "for _, row in df.iterrows():\n",
    "    popup_content = create_popup(row)\n",
    "    folium.CircleMarker(\n",
    "        location=[row['Latitude'], row['Longitude']],\n",
    "        radius=5,\n",
    "        color='blue',\n",
    "        fill=True,\n",
    "        fill_color='blue',\n",
    "        popup=folium.Popup(popup_content, max_width=300)\n",
    "    ).add_to(m)\n",
    "\n",
    "# Display the interactive map\n",
    "m"
   ]
  },
  {
   "cell_type": "code",
   "execution_count": null,
   "id": "67cbc997",
   "metadata": {},
   "outputs": [],
   "source": [
    "m.save('ev_charging_stations_map.html')"
   ]
  },
  {
   "cell_type": "code",
   "execution_count": null,
   "id": "c7d0e178",
   "metadata": {},
   "outputs": [],
   "source": []
  }
 ],
 "metadata": {
  "kernelspec": {
   "display_name": "Python 3 (ipykernel)",
   "language": "python",
   "name": "python3"
  },
  "language_info": {
   "codemirror_mode": {
    "name": "ipython",
    "version": 3
   },
   "file_extension": ".py",
   "mimetype": "text/x-python",
   "name": "python",
   "nbconvert_exporter": "python",
   "pygments_lexer": "ipython3",
   "version": "3.8.15"
  }
 },
 "nbformat": 4,
 "nbformat_minor": 5
}
