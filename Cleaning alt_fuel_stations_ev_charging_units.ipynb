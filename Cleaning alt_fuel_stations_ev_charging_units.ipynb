{
 "cells": [
  {
   "cell_type": "code",
   "execution_count": 1,
   "id": "02029f32",
   "metadata": {},
   "outputs": [],
   "source": [
    "import pandas as pd\n",
    "import numpy as np\n",
    "import matplotlib.pyplot as plt"
   ]
  },
  {
   "cell_type": "code",
   "execution_count": 2,
   "id": "0a4f8bbe",
   "metadata": {},
   "outputs": [
    {
     "name": "stderr",
     "output_type": "stream",
     "text": [
      "/var/folders/6f/p100346d3_qb7lv_xr51lqcr0000gn/T/ipykernel_60297/2689104952.py:2: DtypeWarning: Columns (6,13,20,29,31,45,46,47,54,63,64,69,72,73,74) have mixed types. Specify dtype option on import or set low_memory=False.\n",
      "  df = pd.read_csv(filename)\n"
     ]
    }
   ],
   "source": [
    "filename = \"alt_fuel_stations_ev_charging_units.csv\"\n",
    "df = pd.read_csv(filename)"
   ]
  },
  {
   "cell_type": "code",
   "execution_count": 3,
   "id": "d91a877e",
   "metadata": {},
   "outputs": [
    {
     "data": {
      "text/plain": [
       "(230507, 83)"
      ]
     },
     "execution_count": 3,
     "metadata": {},
     "output_type": "execute_result"
    }
   ],
   "source": [
    "df.shape"
   ]
  },
  {
   "cell_type": "code",
   "execution_count": 4,
   "id": "da19e198",
   "metadata": {},
   "outputs": [
    {
     "data": {
      "text/plain": [
       "Index(['Fuel Type Code', 'Station Name', 'Street Address',\n",
       "       'Intersection Directions', 'City', 'State', 'ZIP', 'Plus4',\n",
       "       'Station Phone', 'Status Code', 'Expected Date',\n",
       "       'Groups With Access Code', 'Access Days Time', 'Cards Accepted',\n",
       "       'BD Blends', 'NG Fill Type Code', 'NG PSI', 'EV Level1 EVSE Num',\n",
       "       'EV Level2 EVSE Num', 'EV DC Fast Count', 'EV Other Info', 'EV Network',\n",
       "       'EV Network Web', 'Geocode Status', 'Latitude', 'Longitude',\n",
       "       'Date Last Confirmed', 'ID', 'Updated At', 'Owner Type Code',\n",
       "       'Federal Agency ID', 'Federal Agency Name', 'Open Date',\n",
       "       'Hydrogen Status Link', 'NG Vehicle Class', 'LPG Primary',\n",
       "       'E85 Blender Pump', 'EV Connector Types', 'Country',\n",
       "       'Intersection Directions (French)', 'Access Days Time (French)',\n",
       "       'BD Blends (French)', 'Groups With Access Code (French)',\n",
       "       'Hydrogen Is Retail', 'Access Code', 'Access Detail Code',\n",
       "       'Federal Agency Code', 'Facility Type', 'CNG Dispenser Num',\n",
       "       'CNG On-Site Renewable Source', 'CNG Total Compression Capacity',\n",
       "       'CNG Storage Capacity', 'LNG On-Site Renewable Source',\n",
       "       'E85 Other Ethanol Blends', 'EV Pricing', 'EV Pricing (French)',\n",
       "       'LPG Nozzle Types', 'Hydrogen Pressures', 'Hydrogen Standards',\n",
       "       'CNG Fill Type Code', 'CNG PSI', 'CNG Vehicle Class',\n",
       "       'LNG Vehicle Class', 'EV On-Site Renewable Source', 'Restricted Access',\n",
       "       'RD Blends', 'RD Blends (French)', 'RD Blended with Biodiesel',\n",
       "       'RD Maximum Biodiesel Level', 'NPS Unit Name',\n",
       "       'CNG Station Sells Renewable Natural Gas',\n",
       "       'LNG Station Sells Renewable Natural Gas', 'Maximum Vehicle Class',\n",
       "       'EV Workplace Charging', 'Funding Sources', 'EV J1772 Connector Count',\n",
       "       'EV J1772 Power Output (kW)', 'EV CCS Connector Count',\n",
       "       'EV CCS Power Output (kW)', 'EV CHAdeMO Connector Count',\n",
       "       'EV CHAdeMO Power Output (kW)', 'EV J3400 Connector Count',\n",
       "       'EV J3400 Power Output (kW)'],\n",
       "      dtype='object')"
      ]
     },
     "execution_count": 4,
     "metadata": {},
     "output_type": "execute_result"
    }
   ],
   "source": [
    "df.columns"
   ]
  },
  {
   "cell_type": "code",
   "execution_count": 5,
   "id": "cf92d7ae",
   "metadata": {},
   "outputs": [
    {
     "data": {
      "text/html": [
       "<div>\n",
       "<style scoped>\n",
       "    .dataframe tbody tr th:only-of-type {\n",
       "        vertical-align: middle;\n",
       "    }\n",
       "\n",
       "    .dataframe tbody tr th {\n",
       "        vertical-align: top;\n",
       "    }\n",
       "\n",
       "    .dataframe thead th {\n",
       "        text-align: right;\n",
       "    }\n",
       "</style>\n",
       "<table border=\"1\" class=\"dataframe\">\n",
       "  <thead>\n",
       "    <tr style=\"text-align: right;\">\n",
       "      <th></th>\n",
       "      <th>Station Name</th>\n",
       "      <th>Street Address</th>\n",
       "      <th>City</th>\n",
       "      <th>State</th>\n",
       "      <th>ZIP</th>\n",
       "      <th>Latitude</th>\n",
       "      <th>Longitude</th>\n",
       "      <th>Open Date</th>\n",
       "      <th>EV Pricing</th>\n",
       "      <th>ID</th>\n",
       "      <th>EV J1772 Connector Count</th>\n",
       "      <th>EV J1772 Power Output (kW)</th>\n",
       "      <th>EV CCS Connector Count</th>\n",
       "      <th>EV CCS Power Output (kW)</th>\n",
       "      <th>EV CHAdeMO Connector Count</th>\n",
       "      <th>EV CHAdeMO Power Output (kW)</th>\n",
       "      <th>EV J3400 Connector Count</th>\n",
       "      <th>EV J3400 Power Output (kW)</th>\n",
       "    </tr>\n",
       "  </thead>\n",
       "  <tbody>\n",
       "    <tr>\n",
       "      <th>0</th>\n",
       "      <td>#1 Cochran Nissan</td>\n",
       "      <td>3355 William Penn Hwy</td>\n",
       "      <td>Pittsburgh</td>\n",
       "      <td>PA</td>\n",
       "      <td>15235</td>\n",
       "      <td>40.431420</td>\n",
       "      <td>-79.814250</td>\n",
       "      <td>2012-01-31</td>\n",
       "      <td>Free</td>\n",
       "      <td>47784</td>\n",
       "      <td>2.0</td>\n",
       "      <td>NaN</td>\n",
       "      <td>0.0</td>\n",
       "      <td>NaN</td>\n",
       "      <td>1.0</td>\n",
       "      <td>44.0</td>\n",
       "      <td>0.0</td>\n",
       "      <td>NaN</td>\n",
       "    </tr>\n",
       "    <tr>\n",
       "      <th>1</th>\n",
       "      <td>#333 LONG BEACH 333 LONG BEACH</td>\n",
       "      <td>4041 N Lakewood Blvd</td>\n",
       "      <td>Long Beach</td>\n",
       "      <td>CA</td>\n",
       "      <td>90808</td>\n",
       "      <td>33.831509</td>\n",
       "      <td>-118.143014</td>\n",
       "      <td>2020-06-12</td>\n",
       "      <td>NaN</td>\n",
       "      <td>159424</td>\n",
       "      <td>1.0</td>\n",
       "      <td>6.5</td>\n",
       "      <td>0.0</td>\n",
       "      <td>NaN</td>\n",
       "      <td>0.0</td>\n",
       "      <td>NaN</td>\n",
       "      <td>0.0</td>\n",
       "      <td>NaN</td>\n",
       "    </tr>\n",
       "    <tr>\n",
       "      <th>2</th>\n",
       "      <td>(400) BUILDING BUILDING 4</td>\n",
       "      <td>4493 Brownsville Road</td>\n",
       "      <td>Powder Springs</td>\n",
       "      <td>GA</td>\n",
       "      <td>30127</td>\n",
       "      <td>33.845016</td>\n",
       "      <td>-84.696058</td>\n",
       "      <td>2024-05-11</td>\n",
       "      <td>NaN</td>\n",
       "      <td>346091</td>\n",
       "      <td>2.0</td>\n",
       "      <td>6.5</td>\n",
       "      <td>0.0</td>\n",
       "      <td>NaN</td>\n",
       "      <td>0.0</td>\n",
       "      <td>NaN</td>\n",
       "      <td>0.0</td>\n",
       "      <td>NaN</td>\n",
       "    </tr>\n",
       "    <tr>\n",
       "      <th>3</th>\n",
       "      <td>(Employee) Silver Lake Water and Sewer Distric...</td>\n",
       "      <td>15205 41st Ave SE</td>\n",
       "      <td>Bothell</td>\n",
       "      <td>WA</td>\n",
       "      <td>98012</td>\n",
       "      <td>47.859877</td>\n",
       "      <td>-122.176374</td>\n",
       "      <td>2023-01-10</td>\n",
       "      <td>NaN</td>\n",
       "      <td>322564</td>\n",
       "      <td>2.0</td>\n",
       "      <td>10.4</td>\n",
       "      <td>0.0</td>\n",
       "      <td>NaN</td>\n",
       "      <td>0.0</td>\n",
       "      <td>NaN</td>\n",
       "      <td>0.0</td>\n",
       "      <td>NaN</td>\n",
       "    </tr>\n",
       "    <tr>\n",
       "      <th>4</th>\n",
       "      <td>(NIAID) National Institute of Allergy and infe...</td>\n",
       "      <td>5601 Fishers Lane</td>\n",
       "      <td>Rockville</td>\n",
       "      <td>MD</td>\n",
       "      <td>20852</td>\n",
       "      <td>39.064175</td>\n",
       "      <td>-77.112563</td>\n",
       "      <td>2022-11-30</td>\n",
       "      <td>Free</td>\n",
       "      <td>241187</td>\n",
       "      <td>4.0</td>\n",
       "      <td>17.3</td>\n",
       "      <td>0.0</td>\n",
       "      <td>NaN</td>\n",
       "      <td>0.0</td>\n",
       "      <td>NaN</td>\n",
       "      <td>0.0</td>\n",
       "      <td>NaN</td>\n",
       "    </tr>\n",
       "  </tbody>\n",
       "</table>\n",
       "</div>"
      ],
      "text/plain": [
       "                                        Station Name         Street Address  \\\n",
       "0                                  #1 Cochran Nissan  3355 William Penn Hwy   \n",
       "1                     #333 LONG BEACH 333 LONG BEACH   4041 N Lakewood Blvd   \n",
       "2                          (400) BUILDING BUILDING 4  4493 Brownsville Road   \n",
       "3  (Employee) Silver Lake Water and Sewer Distric...      15205 41st Ave SE   \n",
       "4  (NIAID) National Institute of Allergy and infe...      5601 Fishers Lane   \n",
       "\n",
       "             City State    ZIP   Latitude   Longitude   Open Date EV Pricing  \\\n",
       "0      Pittsburgh    PA  15235  40.431420  -79.814250  2012-01-31       Free   \n",
       "1      Long Beach    CA  90808  33.831509 -118.143014  2020-06-12        NaN   \n",
       "2  Powder Springs    GA  30127  33.845016  -84.696058  2024-05-11        NaN   \n",
       "3         Bothell    WA  98012  47.859877 -122.176374  2023-01-10        NaN   \n",
       "4       Rockville    MD  20852  39.064175  -77.112563  2022-11-30       Free   \n",
       "\n",
       "       ID  EV J1772 Connector Count  EV J1772 Power Output (kW)  \\\n",
       "0   47784                       2.0                         NaN   \n",
       "1  159424                       1.0                         6.5   \n",
       "2  346091                       2.0                         6.5   \n",
       "3  322564                       2.0                        10.4   \n",
       "4  241187                       4.0                        17.3   \n",
       "\n",
       "   EV CCS Connector Count  EV CCS Power Output (kW)  \\\n",
       "0                     0.0                       NaN   \n",
       "1                     0.0                       NaN   \n",
       "2                     0.0                       NaN   \n",
       "3                     0.0                       NaN   \n",
       "4                     0.0                       NaN   \n",
       "\n",
       "   EV CHAdeMO Connector Count  EV CHAdeMO Power Output (kW)  \\\n",
       "0                         1.0                          44.0   \n",
       "1                         0.0                           NaN   \n",
       "2                         0.0                           NaN   \n",
       "3                         0.0                           NaN   \n",
       "4                         0.0                           NaN   \n",
       "\n",
       "   EV J3400 Connector Count  EV J3400 Power Output (kW)  \n",
       "0                       0.0                         NaN  \n",
       "1                       0.0                         NaN  \n",
       "2                       0.0                         NaN  \n",
       "3                       0.0                         NaN  \n",
       "4                       0.0                         NaN  "
      ]
     },
     "execution_count": 5,
     "metadata": {},
     "output_type": "execute_result"
    }
   ],
   "source": [
    "# Define a unique location identifier using relevant columns\n",
    "location_columns = ['Station Name', 'Street Address', 'City', 'State', 'ZIP',\n",
    "                   'Latitude', 'Longitude', 'Open Date', 'EV Pricing']\n",
    "\n",
    "# Columns to aggregate\n",
    "ev_columns = [\n",
    "    'ID',\n",
    "    'EV J1772 Connector Count', 'EV J1772 Power Output (kW)',\n",
    "    'EV CCS Connector Count', 'EV CCS Power Output (kW)',\n",
    "    'EV CHAdeMO Connector Count', 'EV CHAdeMO Power Output (kW)',\n",
    "    'EV J3400 Connector Count', 'EV J3400 Power Output (kW)'\n",
    "]\n",
    "\n",
    "# Group by location and aggregate connector counts by sum, power outputs by max\n",
    "aggregation = {\n",
    "    'ID': 'min',\n",
    "    'EV J1772 Connector Count': 'sum',\n",
    "    'EV J1772 Power Output (kW)': 'max',\n",
    "    'EV CCS Connector Count': 'sum',\n",
    "    'EV CCS Power Output (kW)': 'max',\n",
    "    'EV CHAdeMO Connector Count': 'sum',\n",
    "    'EV CHAdeMO Power Output (kW)': 'max',\n",
    "    'EV J3400 Connector Count': 'sum',\n",
    "    'EV J3400 Power Output (kW)': 'max'\n",
    "}\n",
    "\n",
    "# Group and aggregate\n",
    "condensed_df = df.groupby(location_columns, dropna=False).agg(aggregation).reset_index()\n",
    "\n",
    "condensed_df.head()"
   ]
  },
  {
   "cell_type": "code",
   "execution_count": 6,
   "id": "e9f1d2c6",
   "metadata": {},
   "outputs": [
    {
     "name": "stdout",
     "output_type": "stream",
     "text": [
      "    Latitude   Longitude\n",
      "0  40.431420  -79.814250\n",
      "1  33.831509 -118.143014\n",
      "2  33.845016  -84.696058\n",
      "3  47.859877 -122.176374\n",
      "4  39.064175  -77.112563\n"
     ]
    }
   ],
   "source": [
    "# Convert Latitude and Longitude columns to numeric values\n",
    "condensed_df['Latitude'] = pd.to_numeric(condensed_df['Latitude'], errors='coerce')\n",
    "condensed_df['Longitude'] = pd.to_numeric(condensed_df['Longitude'], errors='coerce')\n",
    "\n",
    "# Drop rows where either Latitude or Longitude is NaN\n",
    "df_clean = condensed_df.dropna(subset=['Latitude', 'Longitude'])\n",
    "\n",
    "# Optionally, reset the index after dropping rows\n",
    "df_clean.reset_index(drop=True, inplace=True)\n",
    "\n",
    "# Now df_clean contains only rows with valid numeric Latitude and Longitude.\n",
    "print(df_clean[['Latitude', 'Longitude']].head())"
   ]
  },
  {
   "cell_type": "code",
   "execution_count": 7,
   "id": "d0b03516",
   "metadata": {},
   "outputs": [
    {
     "data": {
      "text/plain": [
       "(82229, 18)"
      ]
     },
     "execution_count": 7,
     "metadata": {},
     "output_type": "execute_result"
    }
   ],
   "source": [
    "df_clean.shape"
   ]
  },
  {
   "cell_type": "code",
   "execution_count": 8,
   "id": "6e8ee0cd",
   "metadata": {},
   "outputs": [],
   "source": [
    "df_clean.to_csv(filename[:-4]+\"_cleaned.csv\", index=False)"
   ]
  },
  {
   "cell_type": "code",
   "execution_count": null,
   "id": "d5a1bc00",
   "metadata": {},
   "outputs": [],
   "source": []
  }
 ],
 "metadata": {
  "kernelspec": {
   "display_name": "Python 3 (ipykernel)",
   "language": "python",
   "name": "python3"
  },
  "language_info": {
   "codemirror_mode": {
    "name": "ipython",
    "version": 3
   },
   "file_extension": ".py",
   "mimetype": "text/x-python",
   "name": "python",
   "nbconvert_exporter": "python",
   "pygments_lexer": "ipython3",
   "version": "3.8.15"
  }
 },
 "nbformat": 4,
 "nbformat_minor": 5
}
